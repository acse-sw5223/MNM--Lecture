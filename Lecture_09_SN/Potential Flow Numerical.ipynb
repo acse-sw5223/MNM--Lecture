{
 "cells": [
  {
   "cell_type": "code",
   "execution_count": 5,
   "metadata": {},
   "outputs": [
    {
     "name": "stdout",
     "output_type": "stream",
     "text": [
      "Populating the interactive namespace from numpy and matplotlib\n"
     ]
    },
    {
     "name": "stderr",
     "output_type": "stream",
     "text": [
      "C:\\Users\\sneet\\anaconda3\\lib\\site-packages\\IPython\\core\\magics\\pylab.py:159: UserWarning: pylab import has clobbered these variables: ['e', 'f']\n",
      "`%matplotlib` prevents importing * from pylab and numpy\n",
      "  warn(\"pylab import has clobbered these variables: %s\"  % clobbered +\n"
     ]
    }
   ],
   "source": [
    "%pylab inline"
   ]
  },
  {
   "cell_type": "code",
   "execution_count": 11,
   "metadata": {},
   "outputs": [
    {
     "name": "stdout",
     "output_type": "stream",
     "text": [
      "[[200.   0.   0. ...   0.   0. 100.]\n",
      " [198.   0.   0. ...   0.   0. 100.]\n",
      " [196.   0.   0. ...   0.   0. 100.]\n",
      " ...\n",
      " [  4.   0.   0. ...   0.   0. 100.]\n",
      " [  2.   0.   0. ...   0.   0. 100.]\n",
      " [  0.   0.   0. ...   0.   0. 100.]]\n",
      "\n",
      "[[200. 198. 196. ... 104. 102. 100.]\n",
      " [198.   0.   0. ...   0.   0. 100.]\n",
      " [196.   0.   0. ...   0.   0. 100.]\n",
      " ...\n",
      " [  4.   0.   0. ...   0.   0. 100.]\n",
      " [  2.   0.   0. ...   0.   0. 100.]\n",
      " [  0.   2.   4. ...  96.  98. 100.]]\n",
      "\n",
      "[[200. 198. 196. ... 104. 102. 100.]\n",
      " [198.  50.  50. ...  50.  50. 100.]\n",
      " [196.  50.  50. ...  50.  50. 100.]\n",
      " ...\n",
      " [  4.  50.  50. ...  50.  50. 100.]\n",
      " [  2.  50.  50. ...  50.  50. 100.]\n",
      " [  0.   2.   4. ...  96.  98. 100.]]\n",
      "\n",
      "100: resid=0.001267\n",
      "200: resid=0.000735\n",
      "300: resid=0.000515\n",
      "400: resid=0.000394\n",
      "500: resid=0.000317\n",
      "600: resid=0.000264\n",
      "700: resid=0.000223\n",
      "800: resid=0.000190\n",
      "900: resid=0.000163\n",
      "1000: resid=0.000141\n",
      "1100: resid=0.000122\n",
      "1200: resid=0.000106\n",
      "1300: resid=0.000092\n",
      "1400: resid=0.000080\n",
      "1500: resid=0.000070\n",
      "1600: resid=0.000062\n",
      "1700: resid=0.000054\n",
      "1800: resid=0.000047\n",
      "1900: resid=0.000042\n",
      "2000: resid=0.000037\n",
      "2100: resid=0.000032\n",
      "2200: resid=0.000028\n",
      "2300: resid=0.000025\n",
      "2400: resid=0.000022\n",
      "2500: resid=0.000019\n",
      "2600: resid=0.000017\n",
      "2700: resid=0.000015\n",
      "2800: resid=0.000013\n",
      "2900: resid=0.000012\n",
      "3000: resid=0.000010\n",
      "3100: resid=0.000009\n",
      "3200: resid=0.000008\n",
      "3300: resid=0.000007\n",
      "3400: resid=0.000006\n",
      "3500: resid=0.000006\n",
      "3600: resid=0.000005\n",
      "3700: resid=0.000004\n",
      "3800: resid=0.000004\n",
      "3900: resid=0.000003\n",
      "4000: resid=0.000003\n",
      "4100: resid=0.000003\n",
      "4200: resid=0.000002\n",
      "4300: resid=0.000002\n",
      "4400: resid=0.000002\n",
      "4500: resid=0.000002\n",
      "4600: resid=0.000001\n",
      "4700: resid=0.000001\n",
      "4800: resid=0.000001\n"
     ]
    }
   ],
   "source": [
    "import numpy as np\n",
    "from numpy import zeros, copy, maximum\n",
    "\n",
    "imax=101\n",
    "jmax=51\n",
    "\n",
    "Psi = zeros((imax,jmax))\n",
    "dx = 2.0/(imax-1)\n",
    "\n",
    "for i in range(imax):\n",
    "    x = dx*i\n",
    "    Psi[i,0] = 200-100*x\n",
    "    Psi[i,jmax-1] = 100.0\n",
    "print(Psi)\n",
    "print()\n",
    "\n",
    "for j in range(jmax):\n",
    "    y = dx*j\n",
    "    Psi[0,j] = 200.0-100*y\n",
    "    Psi[imax-1,j] = 100.0*y\n",
    "print(Psi)\n",
    "print()\n",
    "\n",
    "for i in range(1,imax-1,1):\n",
    "    for j in range(1,jmax-1,1):\n",
    "        Psi[i,j] = 50.0\n",
    "print(Psi)\n",
    "print()\n",
    "\n",
    "residave = 1000.0\n",
    "cnt=0\n",
    "a=1.0; b=1.0; c=1.0; d=1.0; e=-4.0; f=0.0\n",
    "\n",
    "Psi_old = copy(Psi)\n",
    "\n",
    "while residave>1.0e-6:\n",
    "    norm_tot=0\n",
    "    residtot=0.0\n",
    "    for i in range(1,imax-1,1):\n",
    "        for j in range(1,jmax-1,1):\n",
    "            #calculate the new value of Psi based on the old value using the Jacobi method\n",
    "            Psi[i,j] = (f-(a*Psi_old[i+1,j]+b*Psi_old[i-1,j]+c*Psi_old[i,j+1]+d*Psi_old[i,j-1]))/e\n",
    "            norm_tot += abs(Psi[i,j])\n",
    "            residtot += abs(Psi_old[i,j]-Psi[i,j])\n",
    "\n",
    "\n",
    "    residave = residtot / maximum(norm_tot,1.0e-10)\n",
    "    cnt+=1\n",
    "    #swap Psi and Psi_old without having to copy the data\n",
    "    temp = Psi\n",
    "    Psi = Psi_old\n",
    "    Psi_old = temp\n",
    "    \n",
    "    if cnt%100==0:\n",
    "        print(\"%g: resid=%f\" % (cnt,residave))"
   ]
  },
  {
   "cell_type": "code",
   "execution_count": 10,
   "metadata": {},
   "outputs": [
    {
     "name": "stdout",
     "output_type": "stream",
     "text": [
      "[[200.   0.   0. ...   0.   0. 100.]\n",
      " [198.   0.   0. ...   0.   0. 100.]\n",
      " [196.   0.   0. ...   0.   0. 100.]\n",
      " ...\n",
      " [  4.   0.   0. ...   0.   0. 100.]\n",
      " [  2.   0.   0. ...   0.   0. 100.]\n",
      " [  0.   0.   0. ...   0.   0. 100.]]\n",
      "\n",
      "[[200. 198. 196. ... 104. 102. 100.]\n",
      " [198.   0.   0. ...   0.   0. 100.]\n",
      " [196.   0.   0. ...   0.   0. 100.]\n",
      " ...\n",
      " [  4.   0.   0. ...   0.   0. 100.]\n",
      " [  2.   0.   0. ...   0.   0. 100.]\n",
      " [  0.   2.   4. ...  96.  98. 100.]]\n",
      "\n",
      "[[200. 198. 196. ... 104. 102. 100.]\n",
      " [198.  50.  50. ...  50.  50. 100.]\n",
      " [196.  50.  50. ...  50.  50. 100.]\n",
      " ...\n",
      " [  4.  50.  50. ...  50.  50. 100.]\n",
      " [  2.  50.  50. ...  50.  50. 100.]\n",
      " [  0.   2.   4. ...  96.  98. 100.]]\n",
      "\n"
     ]
    },
    {
     "data": {
      "text/plain": [
       "<matplotlib.image.AxesImage at 0x126b4b990>"
      ]
     },
     "execution_count": 10,
     "metadata": {},
     "output_type": "execute_result"
    },
    {
     "data": {
      "image/png": "[encoded data removed]",
      "text/plain": [
       "<Figure size 640x480 with 1 Axes>"
      ]
     },
     "metadata": {},
     "output_type": "display_data"
    }
   ],
   "source": [
    "imax=101\n",
    "jmax=51\n",
    "\n",
    "Psi = zeros((imax,jmax))\n",
    "dx = 2.0/(imax-1)\n",
    "\n",
    "for i in range(imax):\n",
    "    x = dx*i\n",
    "    Psi[i,0] = 200-100*x\n",
    "    Psi[i,jmax-1] = 100.0\n",
    "print(Psi)\n",
    "print()\n",
    "\n",
    "for j in range(jmax):\n",
    "    y = dx*j\n",
    "    Psi[0,j] = 200.0-100*y\n",
    "    Psi[imax-1,j] = 100.0*y\n",
    "print(Psi)\n",
    "print()\n",
    "\n",
    "for i in range(1,imax-1,1):\n",
    "    for j in range(1,jmax-1,1):\n",
    "        Psi[i,j] = 50.0\n",
    "print(Psi)\n",
    "print()\n",
    "\n",
    "plt.imshow(Psi.transpose(),origin='lower')"
   ]
  },
  {
   "cell_type": "code",
   "execution_count": 8,
   "metadata": {},
   "outputs": [
    {
     "data": {
      "text/plain": [
       "<matplotlib.image.AxesImage at 0x126acb690>"
      ]
     },
     "execution_count": 8,
     "metadata": {},
     "output_type": "execute_result"
    },
    {
     "data": {
      "image/png": "[encoded data removed]",
      "text/plain": [
       "<Figure size 640x480 with 1 Axes>"
      ]
     },
     "metadata": {},
     "output_type": "display_data"
    }
   ],
   "source": [
    "import matplotlib.pyplot as plt\n",
    "\n",
    "fig1 = plt.figure()\n",
    "plt.imshow(Psi.transpose(),origin='lower')"
   ]
  },
  {
   "cell_type": "code",
   "execution_count": 12,
   "metadata": {},
   "outputs": [],
   "source": [
    "fx=zeros((imax,jmax))\n",
    "fy=zeros((imax,jmax))\n",
    "\n",
    "for i in range(0,imax,1):\n",
    "    for j in range(0,jmax,1):\n",
    "        if j>0 and j<jmax-1:\n",
    "            fx[i,j]=(Psi[i,j+1]-Psi[i,j-1])/(2.*dx)\n",
    "        elif j>0:\n",
    "            fx[i,j]=(Psi[i,j]-Psi[i,j-1])/dx\n",
    "        else:\n",
    "            fx[i,j]=(Psi[i,j+1]-Psi[i,j])/dx\n",
    "            \n",
    "        if i>0 and i<imax-1:\n",
    "            fy[i,j]=-(Psi[i+1,j]-Psi[i-1,j])/(2.*dx)\n",
    "        elif i>0:\n",
    "            fy[i,j]=-(Psi[i,j]-Psi[i-1,j])/dx\n",
    "        else:\n",
    "            fy[i,j]=-(Psi[i+1,j]-Psi[i,j])/dx\n",
    "        "
   ]
  },
  {
   "cell_type": "code",
   "execution_count": 14,
   "metadata": {},
   "outputs": [
    {
     "data": {
      "text/plain": [
       "<matplotlib.quiver.Quiver at 0x126bb0910>"
      ]
     },
     "execution_count": 14,
     "metadata": {},
     "output_type": "execute_result"
    },
    {
     "data": {
      "image/png": "[encoded data removed]",
      "text/plain": [
       "<Figure size 640x480 with 1 Axes>"
      ]
     },
     "metadata": {},
     "output_type": "display_data"
    }
   ],
   "source": [
    "stride = 10\n",
    "plt.quiver(fx.transpose()[::stride,::stride],fy.transpose()[::stride,::stride])"
   ]
  },
  {
   "cell_type": "code",
   "execution_count": 12,
   "metadata": {},
   "outputs": [
    {
     "name": "stdout",
     "output_type": "stream",
     "text": [
      "100: resid=0.001566\n",
      "200: resid=0.000837\n",
      "300: resid=0.000583\n",
      "400: resid=0.000451\n",
      "500: resid=0.000366\n",
      "600: resid=0.000304\n",
      "700: resid=0.000256\n",
      "800: resid=0.000218\n",
      "900: resid=0.000186\n",
      "1000: resid=0.000160\n",
      "1100: resid=0.000139\n",
      "1200: resid=0.000120\n",
      "1300: resid=0.000105\n",
      "1400: resid=0.000091\n",
      "1500: resid=0.000080\n",
      "1600: resid=0.000070\n",
      "1700: resid=0.000061\n",
      "1800: resid=0.000053\n",
      "1900: resid=0.000047\n",
      "2000: resid=0.000041\n",
      "2100: resid=0.000036\n",
      "2200: resid=0.000032\n",
      "2300: resid=0.000028\n",
      "2400: resid=0.000025\n",
      "2500: resid=0.000022\n",
      "2600: resid=0.000019\n",
      "2700: resid=0.000017\n",
      "2800: resid=0.000015\n",
      "2900: resid=0.000013\n",
      "3000: resid=0.000012\n",
      "3100: resid=0.000010\n",
      "3200: resid=0.000009\n",
      "3300: resid=0.000008\n",
      "3400: resid=0.000007\n",
      "3500: resid=0.000006\n",
      "3600: resid=0.000006\n",
      "3700: resid=0.000005\n",
      "3800: resid=0.000004\n",
      "3900: resid=0.000004\n",
      "4000: resid=0.000003\n",
      "4100: resid=0.000003\n",
      "4200: resid=0.000003\n",
      "4300: resid=0.000002\n",
      "4400: resid=0.000002\n",
      "4500: resid=0.000002\n",
      "4600: resid=0.000002\n",
      "4700: resid=0.000001\n",
      "4800: resid=0.000001\n",
      "4900: resid=0.000001\n"
     ]
    }
   ],
   "source": [
    "import math\n",
    "import scipy.linalg as sl\n",
    "import numpy as np\n",
    "\n",
    "imax=101\n",
    "jmax=51\n",
    "\n",
    "Psi = zeros((imax,jmax))\n",
    "resid = zeros((imax,jmax))\n",
    "dx=2.0/(imax-1)\n",
    "\n",
    "for i in range(imax):\n",
    "    x=dx*i\n",
    "    Psi[i,0]=200-100*x\n",
    "    Psi[i,jmax-1]=100.0\n",
    "\n",
    "for j in range(jmax):\n",
    "    y=dx*j\n",
    "    Psi[0,j]=200.0-100*y\n",
    "    Psi[imax-1,j]=100.0*y\n",
    "    \n",
    "for i in range(1,imax-1,1):\n",
    "    for j in range(1,jmax-1,1):\n",
    "        Psi[i,j] = 50.0\n",
    "    \n",
    "residave = 1000.0\n",
    "cnt = 0\n",
    "\n",
    "a = 1.0; b = 1.0; c = 1.0; d = 1.0; e = -4.0; f = 0.0\n",
    "\n",
    "Psi_old = copy(Psi)\n",
    "\n",
    "while residave>1.0e-6:\n",
    "    Psi[1:-1, 1:-1] = (1.0 / e) * (f - (a * Psi_old[2:, 1:-1] + b * Psi_old[:-2, 1:-1] + c * Psi_old[1:-1, 2:] + d * Psi_old[1:-1, :-2]))\n",
    "    residave = sl.norm(Psi-Psi_old)/np.maximum(1.0e-10,sl.norm(Psi))\n",
    "    \n",
    "    temp = Psi\n",
    "    Psi = Psi_old\n",
    "    Psi_old = temp\n",
    "    \n",
    "    cnt+=1\n",
    "    if cnt%100==0:\n",
    "        print(\"%g: resid=%f\" % (cnt,residave))\n"
   ]
  },
  {
   "cell_type": "code",
   "execution_count": 18,
   "metadata": {},
   "outputs": [
    {
     "data": {
      "text/plain": [
       "<matplotlib.image.AxesImage at 0x2bac3113fd0>"
      ]
     },
     "execution_count": 18,
     "metadata": {},
     "output_type": "execute_result"
    },
    {
     "data": {
      "image/png": "[encoded data removed]",
      "text/plain": [
       "<Figure size 432x288 with 1 Axes>"
      ]
     },
     "metadata": {
      "needs_background": "light"
     },
     "output_type": "display_data"
    }
   ],
   "source": [
    "fig1 = figure()\n",
    "imshow(Psi.transpose(),origin='lower')"
   ]
  }
 ],
 "metadata": {
  "kernelspec": {
   "display_name": "Python 3 (ipykernel)",
   "language": "python",
   "name": "python3"
  },
  "language_info": {
   "codemirror_mode": {
    "name": "ipython",
    "version": 3
   },
   "file_extension": ".py",
   "mimetype": "text/x-python",
   "name": "python",
   "nbconvert_exporter": "python",
   "pygments_lexer": "ipython3",
   "version": "3.11.5"
  }
 },
 "nbformat": 4,
 "nbformat_minor": 4
}
